{
 "cells": [
  {
   "cell_type": "code",
   "execution_count": 8,
   "id": "284ea60f",
   "metadata": {},
   "outputs": [],
   "source": [
    "from pymatgen import Structure\n",
    "from pymatgen.ext.matproj import MPRester\n",
    "with MPRester(\"2a0sQXpqwWhCvNGk\") as m:\n",
    "    structure = m.get_structure_by_material_id(\"mp-2784\")\n",
    "    structure.to(filename = \"Na2Te.cif\")"
   ]
  },
  {
   "cell_type": "code",
   "execution_count": null,
   "id": "7a735ce0",
   "metadata": {},
   "outputs": [],
   "source": []
  },
  {
   "cell_type": "code",
   "execution_count": null,
   "id": "46fa45b3",
   "metadata": {},
   "outputs": [],
   "source": []
  }
 ],
 "metadata": {
  "kernelspec": {
   "display_name": "Python 3",
   "language": "python",
   "name": "python3"
  },
  "language_info": {
   "codemirror_mode": {
    "name": "ipython",
    "version": 3
   },
   "file_extension": ".py",
   "mimetype": "text/x-python",
   "name": "python",
   "nbconvert_exporter": "python",
   "pygments_lexer": "ipython3",
   "version": "3.6.8"
  }
 },
 "nbformat": 4,
 "nbformat_minor": 5
}
