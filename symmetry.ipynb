{
 "cells": [
  {
   "cell_type": "code",
   "execution_count": 22,
   "id": "fd50c840",
   "metadata": {},
   "outputs": [],
   "source": [
    "from pymatgen import Structure,Lattice\n",
    "from jupyter_jsmol.pymatgen import quick_view\n",
    "from pymatgen.symmetry.analyzer import SpacegroupAnalyzer\n",
    "from pymatgen.core.operations import SymmOp\n",
    "from pymatgen.symmetry.site_symmetries import *\n",
    "from pymatgen.ext.matproj import MPRester\n",
    "with MPRester(\"2a0sQXpqwWhCvNGk\") as m:\n",
    "    structure = m.get_structure_by_material_id(\"mp-2784\")\n",
    "    structure.to(filename = \"Na2Te.cif\")"
   ]
  },
  {
   "cell_type": "code",
   "execution_count": 23,
   "id": "422539e4",
   "metadata": {},
   "outputs": [
    {
     "data": {
      "application/vnd.jupyter.widget-view+json": {
       "model_id": "817c51755682413587aacf3f81bebb13",
       "version_major": 2,
       "version_minor": 0
      },
      "text/plain": [
       "JsmolView(layout=Layout(align_self='stretch', height='400px'))"
      ]
     },
     "metadata": {},
     "output_type": "display_data"
    },
    {
     "name": "stdout",
     "output_type": "stream",
     "text": [
      "Symétrie 1 : axe de rotation C3 (-y,x-y,z)\n",
      "Rot:\n",
      "[[ 1.  1.  1.]\n",
      " [ 0.  0. -1.]\n",
      " [-1.  0.  0.]]\n",
      "tau\n",
      "[0. 0. 0.]\n",
      "Symétrie 2 : Plan miroir (z,y,x)\n",
      "Rot:\n",
      "[[ 1.  1.  1.]\n",
      " [ 0.  0. -1.]\n",
      " [ 0. -1.  0.]]\n",
      "tau\n",
      "[0. 0. 0.]\n",
      "Symétrie 3 : axe de rotation C2 (-y,-x+z,-x-y+z)\n",
      "Rot:\n",
      "[[-1.  0.  0.]\n",
      " [ 0. -1.  0.]\n",
      " [ 1.  1.  1.]]\n",
      "tau\n",
      "[0. 0. 0.]\n"
     ]
    }
   ],
   "source": [
    "# Visualisation\n",
    "view = quick_view(structure)\n",
    "display(view)\n",
    "# Symétries de la molécule\n",
    "sym = SpacegroupAnalyzer(structure).get_symmetry_operations()\n",
    "\n",
    "# Symétries choisies pour les atomes\n",
    "# Axe de rotation C3 (-y,x-y,z)\n",
    "S1 = sym[2]\n",
    "print(\"Symétrie 1 : axe de rotation C3 (-y,x-y,z)\")\n",
    "print(S1)\n",
    "# Plan miroir (z,y,x)\n",
    "S2 = sym[9]\n",
    "print(\"Symétrie 2 : Plan miroir (z,y,x)\")\n",
    "print(S2)\n",
    "# Axe de rotation C2 (-y,-x+z,-x-y+z)\n",
    "S3 = sym[14]\n",
    "print(\"Symétrie 3 : axe de rotation C2 (-y,-x+z,-x-y+z)\")\n",
    "print(S3)\n",
    "\n",
    "# Atomes choisis\n",
    "Na1 = [0.0, 0.0, 0.0]\n",
    "Na2 = [0.0, 0.66667, 0.33333]\n",
    "Te = [0.33333, 0.33333, 0.33333]\n",
    "# Application des symétries\n",
    "Na1_sym = S1.operate(Na1)\n",
    "Na2_sym = S2.operate(Na2)\n",
    "Te_sym = S3.operate(Te)\n",
    "\n"
   ]
  },
  {
   "cell_type": "code",
   "execution_count": 24,
   "id": "2fb288c1",
   "metadata": {},
   "outputs": [
    {
     "name": "stdout",
     "output_type": "stream",
     "text": [
      "Symétrie 1 : axe de rotation C3 \n",
      "\n",
      "L'atome est le Na1 de coordonnées : [0.0, 0.0, 0.0]\n",
      "\n",
      "On lui applique une symétrie d'axe de rotation C3 (-y,x-y,z) :\n",
      "\n",
      "[[ 1.  1.  1.]\n",
      " [ 0.  0. -1.]\n",
      " [-1.  0.  0.]] * [0.0, 0.0, 0.0] + [0. 0. 0.]\n",
      "L'atome après la symétrie a comme coordonnées : [0. 0. 0.]\n",
      "\n"
     ]
    },
    {
     "data": {
      "application/vnd.jupyter.widget-view+json": {
       "model_id": "1cf20c7d6c094d0eb6ada112ecd24eb0",
       "version_major": 2,
       "version_minor": 0
      },
      "text/plain": [
       "JsmolView(layout=Layout(align_self='stretch', height='400px'))"
      ]
     },
     "metadata": {},
     "output_type": "display_data"
    }
   ],
   "source": [
    "print(\"Symétrie 1 : axe de rotation C3 \\n\")\n",
    "print(\"L'atome est le Na1 de coordonnées : {}\\n\".format(Na1))\n",
    "print(\"On lui applique une symétrie d'axe de rotation C3 (-y,x-y,z) :\\n\")\n",
    "print(S1.rotation_matrix, \"*\", Na1, '+', S1.translation_vector)\n",
    "print(\"L'atome après la symétrie a comme coordonnées : {}\\n\".format(Na1_sym))\n",
    "v1 = quick_view(structure)\n",
    "display(v1)\n",
    "v1.script(\"draw symop 3 {atomno=1}\")\n"
   ]
  },
  {
   "cell_type": "code",
   "execution_count": 25,
   "id": "e1aa9ab4",
   "metadata": {},
   "outputs": [
    {
     "name": "stdout",
     "output_type": "stream",
     "text": [
      "Symétrie 2 : plan miroir \n",
      "\n",
      "L'atome est le Na2 de coordonnées : [0.0, 0.66667, 0.33333]\n",
      "\n",
      "On lui applique une symétrie de plan miroir (z,y,x) : \n",
      "\n",
      "[[ 1.  1.  1.]\n",
      " [ 0.  0. -1.]\n",
      " [ 0. -1.  0.]] * [0.0, 0.66667, 0.33333] + [0. 0. 0.]\n",
      "L'atome après la symétrie a comme coordonnées : [ 1.      -0.33333 -0.66667]\n",
      "\n"
     ]
    },
    {
     "data": {
      "application/vnd.jupyter.widget-view+json": {
       "model_id": "d1b01d8da78e467ca4dbedc6a45c033d",
       "version_major": 2,
       "version_minor": 0
      },
      "text/plain": [
       "JsmolView(layout=Layout(align_self='stretch', height='400px'))"
      ]
     },
     "metadata": {},
     "output_type": "display_data"
    }
   ],
   "source": [
    "print(\"Symétrie 2 : plan miroir \\n\")\n",
    "print(\"L'atome est le Na2 de coordonnées : {}\\n\".format(Na2))\n",
    "print(\"On lui applique une symétrie de plan miroir (z,y,x) : \\n\")\n",
    "print(S2.rotation_matrix, \"*\", Na2, '+', S2.translation_vector)\n",
    "print(\"L'atome après la symétrie a comme coordonnées : {}\\n\".format(Na2_sym))\n",
    "v1 = quick_view(structure)\n",
    "display(v1)\n",
    "v1.script(\"draw symop 10 {atomno=2}\")\n"
   ]
  },
  {
   "cell_type": "code",
   "execution_count": 26,
   "id": "8e54ac8c",
   "metadata": {},
   "outputs": [
    {
     "name": "stdout",
     "output_type": "stream",
     "text": [
      "Symétrie 3 : axe de rotation C2 \n",
      "\n",
      "L'atome est le Te de coordonnées : [0.33333, 0.33333, 0.33333]\n",
      "\n",
      "On lui applique une symétrie d'axe de rotation C2 (-y,-x+z,-x-y+z) : \n",
      "\n",
      "[[-1.  0.  0.]\n",
      " [ 0. -1.  0.]\n",
      " [ 1.  1.  1.]] * [0.33333, 0.33333, 0.33333] + [0. 0. 0.]\n",
      "L'atome après la symétrie a comme coordonnées : [-0.33333 -0.33333  0.99999]\n",
      "\n"
     ]
    },
    {
     "data": {
      "application/vnd.jupyter.widget-view+json": {
       "model_id": "e82fab86ebcf45618bbf176a83d3937f",
       "version_major": 2,
       "version_minor": 0
      },
      "text/plain": [
       "JsmolView(layout=Layout(align_self='stretch', height='400px'))"
      ]
     },
     "metadata": {},
     "output_type": "display_data"
    }
   ],
   "source": [
    "print(\"Symétrie 3 : axe de rotation C2 \\n\")\n",
    "print(\"L'atome est le Te de coordonnées : {}\\n\".format(Te))\n",
    "print(\"On lui applique une symétrie d'axe de rotation C2 (-y,-x+z,-x-y+z) : \\n\")\n",
    "print(S3.rotation_matrix, \"*\", Te, '+', S3.translation_vector)\n",
    "print(\"L'atome après la symétrie a comme coordonnées : {}\\n\".format(Te_sym))\n",
    "v1 = quick_view(structure)\n",
    "display(v1)\n",
    "v1.script(\"draw symop 15 {atomno=2}\")"
   ]
  }
 ],
 "metadata": {
  "kernelspec": {
   "display_name": "Python 3",
   "language": "python",
   "name": "python3"
  },
  "language_info": {
   "codemirror_mode": {
    "name": "ipython",
    "version": 3
   },
   "file_extension": ".py",
   "mimetype": "text/x-python",
   "name": "python",
   "nbconvert_exporter": "python",
   "pygments_lexer": "ipython3",
   "version": "3.6.8"
  }
 },
 "nbformat": 4,
 "nbformat_minor": 5
}
