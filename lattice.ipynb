{
 "cells": [
  {
   "cell_type": "code",
   "execution_count": null,
   "id": "9e176149",
   "metadata": {},
   "outputs": [],
   "source": [
    "\n",
    "from pymatgen.ext.matproj import MPRester\n",
    "from pymatgen.core.structure import Structure\n",
    "from pymatgen.symmetry.analyzer import SpacegroupAnalyzer\n",
    "\n",
    "# Initialiser un objet MPRester pour accéder aux données de la base de données Materials Project\n",
    "with MPRester(\"2a0sQXpqwWhCvNGk\") as mpr:\n",
    "    # Obtenir la structure cristalline de Na2Te à partir du Materials Project\n",
    "    structure = mpr.get_structure_by_material_id(\"mp-2247\")\n",
    "\n",
    "# Créer un objet SpacegroupAnalyzer pour analyser la structure cristalline\n",
    "sga = SpacegroupAnalyzer(structure)\n",
    "\n",
    "# Obtenir les vecteurs de base du réseau direct\n",
    "a = structure.lattice.matrix\n",
    "normes_a = structure.lattice.abc\n",
    "angles_a = structure.lattice.angles\n",
    "\n",
    "# Obtenir les vecteurs de base du réseau réciproque\n",
    "b = structure.lattice.reciprocal_lattice.matrix\n",
    "normes_b = structure.lattice.reciprocal_lattice.abc\n",
    "angles_b = structure.lattice.reciprocal_lattice.angles\n",
    "\n",
    "# Obtenir le type de maille et le système cristallin\n",
    "lattice_type = sga.get_lattice_type()\n",
    "crystal_system = sga.get_crystal_system()\n",
    "\n",
    "# Obtenir le groupe ponctuel\n",
    "spacegroup_symbol = sga.get_space_group_symbol()\n",
    "\n",
    "# Afficher les résultats\n",
    "print(\"Vecteurs de base du réseau direct:\")\n",
    "print(\"a1 = {}, a2 = {}, a3 = {}\".format(*a))\n",
    "print(\"\\nVecteurs de base du réseau réciproque:\")\n",
    "print(\"b1 = {}, b2 = {}, b3 = {}\".format(*b))\n",
    "print(\"\\nType de maille: {}\".format(lattice_type))\n",
    "print(\"Système cristallin: {}\".format(crystal_system))\n",
    "print(\"Groupe ponctuel: {}\".format(spacegroup_symbol))"
   ]
  }
 ],
 "metadata": {
  "kernelspec": {
   "display_name": "Python 3",
   "language": "python",
   "name": "python3"
  }
 },
 "nbformat": 4,
 "nbformat_minor": 5
}
